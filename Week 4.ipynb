{
    "cells": [
        {
            "cell_type": "markdown",
            "metadata": {
                "collapsed": true
            },
            "source": "# Description of the problem"
        },
        {
            "cell_type": "markdown",
            "metadata": {},
            "source": "Some families don't have any idea of what should be the best place for moving from south amercia to Canada in term of comercial activity, it is not desired to move most populated cities but a growing city is"
        },
        {
            "cell_type": "markdown",
            "metadata": {},
            "source": "# Discussion of the background"
        },
        {
            "cell_type": "markdown",
            "metadata": {},
            "source": "It would be useful to classify large set of cities in term of their commercial activity and population in order to find different options for different families requirements"
        },
        {
            "cell_type": "markdown",
            "metadata": {},
            "source": "# Description of the data"
        },
        {
            "cell_type": "markdown",
            "metadata": {},
            "source": "The data of population in Canada will be scrapped from a website while comercial data will be extracted from foursquare API"
        },
        {
            "cell_type": "code",
            "execution_count": null,
            "metadata": {},
            "outputs": [],
            "source": ""
        }
    ],
    "metadata": {
        "kernelspec": {
            "display_name": "Python 3.8",
            "language": "python",
            "name": "python3"
        },
        "language_info": {
            "codemirror_mode": {
                "name": "ipython",
                "version": 3
            },
            "file_extension": ".py",
            "mimetype": "text/x-python",
            "name": "python",
            "nbconvert_exporter": "python",
            "pygments_lexer": "ipython3",
            "version": "3.8.12"
        }
    },
    "nbformat": 4,
    "nbformat_minor": 1
}