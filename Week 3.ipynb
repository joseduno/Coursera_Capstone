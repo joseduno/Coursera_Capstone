{
    "cells": [
        {
            "cell_type": "code",
            "execution_count": 1,
            "id": "09153c5d-90d4-4fe0-bc8f-85e8ab897597",
            "metadata": {},
            "outputs": [],
            "source": "import pandas as pd\nimport requests\nfrom bs4 import BeautifulSoup"
        },
        {
            "cell_type": "code",
            "execution_count": 2,
            "id": "57fde8c0-4ca0-487a-8df9-a3db6d542c35",
            "metadata": {},
            "outputs": [],
            "source": "# GET request\nresponse = requests.get(\"https://en.wikipedia.org/wiki/List_of_postal_codes_of_Canada:_M\")\nsoup = BeautifulSoup(response.text, 'html.parser')"
        },
        {
            "cell_type": "code",
            "execution_count": 3,
            "id": "3d3bccd7-a9f3-4504-8604-7b4a08d2433a",
            "metadata": {},
            "outputs": [],
            "source": "# getting toronto postal codes data from soup tag\ntable_data = soup.find_all('table')[0]"
        },
        {
            "cell_type": "code",
            "execution_count": 4,
            "id": "306fb846-617f-4219-af74-05f6de7735f4",
            "metadata": {},
            "outputs": [
                {
                    "name": "stdout",
                    "output_type": "stream",
                    "text": "(103, 3)\n"
                },
                {
                    "data": {
                        "text/html": "<div>\n<style scoped>\n    .dataframe tbody tr th:only-of-type {\n        vertical-align: middle;\n    }\n\n    .dataframe tbody tr th {\n        vertical-align: top;\n    }\n\n    .dataframe thead th {\n        text-align: right;\n    }\n</style>\n<table border=\"1\" class=\"dataframe\">\n  <thead>\n    <tr style=\"text-align: right;\">\n      <th></th>\n      <th>PostalCode</th>\n      <th>Borough</th>\n      <th>Neighborhoods</th>\n    </tr>\n  </thead>\n  <tbody>\n    <tr>\n      <th>0</th>\n      <td>M3A</td>\n      <td>North York</td>\n      <td>Parkwoods</td>\n    </tr>\n    <tr>\n      <th>1</th>\n      <td>M4A</td>\n      <td>North York</td>\n      <td>Victoria Village</td>\n    </tr>\n    <tr>\n      <th>2</th>\n      <td>M5A</td>\n      <td>Downtown Toronto</td>\n      <td>Regent Park, Harbourfront</td>\n    </tr>\n    <tr>\n      <th>3</th>\n      <td>M6A</td>\n      <td>North York</td>\n      <td>Lawrence Manor, Lawrence Heights</td>\n    </tr>\n    <tr>\n      <th>4</th>\n      <td>M7A</td>\n      <td>Queen's Park</td>\n      <td>Ontario Provincial Government</td>\n    </tr>\n  </tbody>\n</table>\n</div>",
                        "text/plain": "  PostalCode           Borough                     Neighborhoods\n0        M3A        North York                         Parkwoods\n1        M4A        North York                  Victoria Village\n2        M5A  Downtown Toronto         Regent Park, Harbourfront\n3        M6A        North York  Lawrence Manor, Lawrence Heights\n4        M7A      Queen's Park     Ontario Provincial Government"
                    },
                    "execution_count": 4,
                    "metadata": {},
                    "output_type": "execute_result"
                }
            ],
            "source": "# auxiliar list\ntable_content = []\n\n# getting postal code, borough and neighborhoods for each data in previous table\nfor tdTag in table_data.find_all('td'):\n    \n    # removing posible start and ending spaces\n    text = tdTag.text.strip()  \n    \n    # to ignore postal codes with no assign borough and neighborhoods\n    if 'not assigned' in text.lower():\n        continue\n        \n    # storing postal code, borough and neighborhoods\n    postalCode = text[:3]\n    textList = text[3:].split('(')\n    borough = textList[0]\n    neighborhoods = textList[1].strip()\n    neighborhoods = neighborhoods[:neighborhoods.find(')')]\n    neighborhoods = neighborhoods.replace(' /', ',') if ' /' in neighborhoods else neighborhoods\n    \n    # appending row\n    table_content.append({'PostalCode': postalCode, 'Borough': borough, 'Neighborhoods': neighborhoods})\n\n# final dataframe\ndf = pd.DataFrame(table_content)\nprint(df.shape)\ndf.head()"
        },
        {
            "cell_type": "code",
            "execution_count": null,
            "metadata": {},
            "outputs": [],
            "source": ""
        }
    ],
    "metadata": {
        "kernelspec": {
            "display_name": "Python 3.8",
            "language": "python",
            "name": "python3"
        },
        "language_info": {
            "codemirror_mode": {
                "name": "ipython",
                "version": 3
            },
            "file_extension": ".py",
            "mimetype": "text/x-python",
            "name": "python",
            "nbconvert_exporter": "python",
            "pygments_lexer": "ipython3",
            "version": "3.8.12"
        }
    },
    "nbformat": 4,
    "nbformat_minor": 5
}